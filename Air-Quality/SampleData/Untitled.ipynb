{
 "cells": [
  {
   "cell_type": "code",
   "execution_count": 48,
   "metadata": {},
   "outputs": [],
   "source": [
    "import pandas as pd\n",
    "import numpy as np\n",
    "from itertools import chain\n"
   ]
  },
  {
   "cell_type": "code",
   "execution_count": 49,
   "metadata": {},
   "outputs": [],
   "source": [
    "data = pd.read_csv('pm25_ground.txt')\n",
    "data[\"date\"] = pd.to_datetime(data['datetime']).dt.month\n",
    "data['datehour'] = pd.to_datetime(data['datetime']).dt.hour\n",
    "data = data.sort_values(by=[\"datehour\"])\n",
    "df = data.iloc[:, 0:37].copy().set_index('datetime').unstack().reset_index()\n",
    "d = df.sort_values(by=['datetime'])\n",
    "df = d.copy()"
   ]
  },
  {
   "cell_type": "code",
   "execution_count": 50,
   "metadata": {},
   "outputs": [],
   "source": [
    "df = data.iloc[:, 0:37].copy().set_index('datetime').unstack().reset_index()\n",
    "d = df.sort_values(by=['datetime'])\n",
    "df = d.copy()"
   ]
  },
  {
   "cell_type": "code",
   "execution_count": 51,
   "metadata": {},
   "outputs": [
    {
     "data": {
      "text/html": [
       "<div>\n",
       "<style scoped>\n",
       "    .dataframe tbody tr th:only-of-type {\n",
       "        vertical-align: middle;\n",
       "    }\n",
       "\n",
       "    .dataframe tbody tr th {\n",
       "        vertical-align: top;\n",
       "    }\n",
       "\n",
       "    .dataframe thead th {\n",
       "        text-align: right;\n",
       "    }\n",
       "</style>\n",
       "<table border=\"1\" class=\"dataframe\">\n",
       "  <thead>\n",
       "    <tr style=\"text-align: right;\">\n",
       "      <th></th>\n",
       "      <th>level_0</th>\n",
       "      <th>datetime</th>\n",
       "      <th>0</th>\n",
       "    </tr>\n",
       "  </thead>\n",
       "  <tbody>\n",
       "    <tr>\n",
       "      <th>219650</th>\n",
       "      <td>001026</td>\n",
       "      <td>2014/05/01 01:00:00</td>\n",
       "      <td>77.0</td>\n",
       "    </tr>\n",
       "    <tr>\n",
       "      <th>263445</th>\n",
       "      <td>001031</td>\n",
       "      <td>2014/05/01 01:00:00</td>\n",
       "      <td>97.0</td>\n",
       "    </tr>\n",
       "    <tr>\n",
       "      <th>158337</th>\n",
       "      <td>001019</td>\n",
       "      <td>2014/05/01 01:00:00</td>\n",
       "      <td>108.0</td>\n",
       "    </tr>\n",
       "    <tr>\n",
       "      <th>202132</th>\n",
       "      <td>001024</td>\n",
       "      <td>2014/05/01 01:00:00</td>\n",
       "      <td>100.0</td>\n",
       "    </tr>\n",
       "    <tr>\n",
       "      <th>105783</th>\n",
       "      <td>001013</td>\n",
       "      <td>2014/05/01 01:00:00</td>\n",
       "      <td>76.0</td>\n",
       "    </tr>\n",
       "    <tr>\n",
       "      <th>...</th>\n",
       "      <td>...</td>\n",
       "      <td>...</td>\n",
       "      <td>...</td>\n",
       "    </tr>\n",
       "    <tr>\n",
       "      <th>192697</th>\n",
       "      <td>001022</td>\n",
       "      <td>2015/04/30 23:00:00</td>\n",
       "      <td>187.0</td>\n",
       "    </tr>\n",
       "    <tr>\n",
       "      <th>183938</th>\n",
       "      <td>001021</td>\n",
       "      <td>2015/04/30 23:00:00</td>\n",
       "      <td>113.0</td>\n",
       "    </tr>\n",
       "    <tr>\n",
       "      <th>175179</th>\n",
       "      <td>001020</td>\n",
       "      <td>2015/04/30 23:00:00</td>\n",
       "      <td>110.0</td>\n",
       "    </tr>\n",
       "    <tr>\n",
       "      <th>227733</th>\n",
       "      <td>001026</td>\n",
       "      <td>2015/04/30 23:00:00</td>\n",
       "      <td>169.0</td>\n",
       "    </tr>\n",
       "    <tr>\n",
       "      <th>315323</th>\n",
       "      <td>001036</td>\n",
       "      <td>2015/04/30 23:00:00</td>\n",
       "      <td>88.0</td>\n",
       "    </tr>\n",
       "  </tbody>\n",
       "</table>\n",
       "<p>315324 rows × 3 columns</p>\n",
       "</div>"
      ],
      "text/plain": [
       "       level_0             datetime      0\n",
       "219650  001026  2014/05/01 01:00:00   77.0\n",
       "263445  001031  2014/05/01 01:00:00   97.0\n",
       "158337  001019  2014/05/01 01:00:00  108.0\n",
       "202132  001024  2014/05/01 01:00:00  100.0\n",
       "105783  001013  2014/05/01 01:00:00   76.0\n",
       "...        ...                  ...    ...\n",
       "192697  001022  2015/04/30 23:00:00  187.0\n",
       "183938  001021  2015/04/30 23:00:00  113.0\n",
       "175179  001020  2015/04/30 23:00:00  110.0\n",
       "227733  001026  2015/04/30 23:00:00  169.0\n",
       "315323  001036  2015/04/30 23:00:00   88.0\n",
       "\n",
       "[315324 rows x 3 columns]"
      ]
     },
     "execution_count": 51,
     "metadata": {},
     "output_type": "execute_result"
    }
   ],
   "source": [
    "df"
   ]
  },
  {
   "cell_type": "code",
   "execution_count": 52,
   "metadata": {},
   "outputs": [],
   "source": [
    "df.columns = [\"Station\", \"datetime\", \"value\"]\n",
    "ar = df[\"value\"].to_numpy()\n",
    "df['date'] = pd.to_datetime(df['datetime']).dt.month\n",
    "df['datehour'] = pd.to_datetime(df['datetime']).dt.hour\n",
    "df['day'] = pd.to_datetime(df['datetime']).dt.day\n",
    "df1 = df.copy().sort_values(by=\"datetime\")"
   ]
  },
  {
   "cell_type": "code",
   "execution_count": 53,
   "metadata": {},
   "outputs": [],
   "source": [
    "condition = df1.groupby([\"datehour\", \"day\"], as_index=False).apply(lambda x: x.loc[(x.date.isin([2, 5, 8,11]) & (x.value.isnull()))]).reset_index().sort_values(\"datetime\")"
   ]
  },
  {
   "cell_type": "code",
   "execution_count": 54,
   "metadata": {
    "scrolled": true
   },
   "outputs": [],
   "source": [
    "condition[\"value\"] = -1"
   ]
  },
  {
   "cell_type": "code",
   "execution_count": 55,
   "metadata": {},
   "outputs": [],
   "source": [
    "test = df1[df1.date.isin([3,6,9,12])]"
   ]
  },
  {
   "cell_type": "code",
   "execution_count": 56,
   "metadata": {},
   "outputs": [],
   "source": [
    "test_new = pd.merge(test.iloc[:, 0:7], condition[[\"day\", \"datehour\", \"value\", \"Station\"]],\n",
    "         on=[\"Station\", \"datehour\", \"day\"], how=\"left\")"
   ]
  },
  {
   "cell_type": "code",
   "execution_count": 59,
   "metadata": {},
   "outputs": [],
   "source": [
    "test_new.columns = [\"Station\", \"datetime\", \"value\", \"date\", \"datehour\", \"day\", \"New_value\"]"
   ]
  },
  {
   "cell_type": "code",
   "execution_count": 60,
   "metadata": {},
   "outputs": [
    {
     "data": {
      "text/html": [
       "<div>\n",
       "<style scoped>\n",
       "    .dataframe tbody tr th:only-of-type {\n",
       "        vertical-align: middle;\n",
       "    }\n",
       "\n",
       "    .dataframe tbody tr th {\n",
       "        vertical-align: top;\n",
       "    }\n",
       "\n",
       "    .dataframe thead th {\n",
       "        text-align: right;\n",
       "    }\n",
       "</style>\n",
       "<table border=\"1\" class=\"dataframe\">\n",
       "  <thead>\n",
       "    <tr style=\"text-align: right;\">\n",
       "      <th></th>\n",
       "      <th>Station</th>\n",
       "      <th>datetime</th>\n",
       "      <th>value</th>\n",
       "      <th>date</th>\n",
       "      <th>datehour</th>\n",
       "      <th>day</th>\n",
       "      <th>New_value</th>\n",
       "    </tr>\n",
       "  </thead>\n",
       "  <tbody>\n",
       "    <tr>\n",
       "      <th>0</th>\n",
       "      <td>001019</td>\n",
       "      <td>2014/06/01 00:00:00</td>\n",
       "      <td>NaN</td>\n",
       "      <td>6</td>\n",
       "      <td>0</td>\n",
       "      <td>1</td>\n",
       "      <td>-1.0</td>\n",
       "    </tr>\n",
       "    <tr>\n",
       "      <th>1</th>\n",
       "      <td>001016</td>\n",
       "      <td>2014/06/01 00:00:00</td>\n",
       "      <td>130.0</td>\n",
       "      <td>6</td>\n",
       "      <td>0</td>\n",
       "      <td>1</td>\n",
       "      <td>-1.0</td>\n",
       "    </tr>\n",
       "    <tr>\n",
       "      <th>2</th>\n",
       "      <td>001014</td>\n",
       "      <td>2014/06/01 00:00:00</td>\n",
       "      <td>100.0</td>\n",
       "      <td>6</td>\n",
       "      <td>0</td>\n",
       "      <td>1</td>\n",
       "      <td>-1.0</td>\n",
       "    </tr>\n",
       "    <tr>\n",
       "      <th>3</th>\n",
       "      <td>001018</td>\n",
       "      <td>2014/06/01 00:00:00</td>\n",
       "      <td>92.0</td>\n",
       "      <td>6</td>\n",
       "      <td>0</td>\n",
       "      <td>1</td>\n",
       "      <td>-1.0</td>\n",
       "    </tr>\n",
       "    <tr>\n",
       "      <th>4</th>\n",
       "      <td>001013</td>\n",
       "      <td>2014/06/01 00:00:00</td>\n",
       "      <td>99.0</td>\n",
       "      <td>6</td>\n",
       "      <td>0</td>\n",
       "      <td>1</td>\n",
       "      <td>-1.0</td>\n",
       "    </tr>\n",
       "    <tr>\n",
       "      <th>...</th>\n",
       "      <td>...</td>\n",
       "      <td>...</td>\n",
       "      <td>...</td>\n",
       "      <td>...</td>\n",
       "      <td>...</td>\n",
       "      <td>...</td>\n",
       "      <td>...</td>\n",
       "    </tr>\n",
       "    <tr>\n",
       "      <th>109351</th>\n",
       "      <td>001017</td>\n",
       "      <td>2015/03/31 23:00:00</td>\n",
       "      <td>NaN</td>\n",
       "      <td>3</td>\n",
       "      <td>23</td>\n",
       "      <td>31</td>\n",
       "      <td>NaN</td>\n",
       "    </tr>\n",
       "    <tr>\n",
       "      <th>109352</th>\n",
       "      <td>001028</td>\n",
       "      <td>2015/03/31 23:00:00</td>\n",
       "      <td>NaN</td>\n",
       "      <td>3</td>\n",
       "      <td>23</td>\n",
       "      <td>31</td>\n",
       "      <td>NaN</td>\n",
       "    </tr>\n",
       "    <tr>\n",
       "      <th>109353</th>\n",
       "      <td>001007</td>\n",
       "      <td>2015/03/31 23:00:00</td>\n",
       "      <td>NaN</td>\n",
       "      <td>3</td>\n",
       "      <td>23</td>\n",
       "      <td>31</td>\n",
       "      <td>NaN</td>\n",
       "    </tr>\n",
       "    <tr>\n",
       "      <th>109354</th>\n",
       "      <td>001034</td>\n",
       "      <td>2015/03/31 23:00:00</td>\n",
       "      <td>NaN</td>\n",
       "      <td>3</td>\n",
       "      <td>23</td>\n",
       "      <td>31</td>\n",
       "      <td>-1.0</td>\n",
       "    </tr>\n",
       "    <tr>\n",
       "      <th>109355</th>\n",
       "      <td>001036</td>\n",
       "      <td>2015/03/31 23:00:00</td>\n",
       "      <td>NaN</td>\n",
       "      <td>3</td>\n",
       "      <td>23</td>\n",
       "      <td>31</td>\n",
       "      <td>-1.0</td>\n",
       "    </tr>\n",
       "  </tbody>\n",
       "</table>\n",
       "<p>109356 rows × 7 columns</p>\n",
       "</div>"
      ],
      "text/plain": [
       "       Station             datetime  value  date  datehour  day  New_value\n",
       "0       001019  2014/06/01 00:00:00    NaN     6         0    1       -1.0\n",
       "1       001016  2014/06/01 00:00:00  130.0     6         0    1       -1.0\n",
       "2       001014  2014/06/01 00:00:00  100.0     6         0    1       -1.0\n",
       "3       001018  2014/06/01 00:00:00   92.0     6         0    1       -1.0\n",
       "4       001013  2014/06/01 00:00:00   99.0     6         0    1       -1.0\n",
       "...        ...                  ...    ...   ...       ...  ...        ...\n",
       "109351  001017  2015/03/31 23:00:00    NaN     3        23   31        NaN\n",
       "109352  001028  2015/03/31 23:00:00    NaN     3        23   31        NaN\n",
       "109353  001007  2015/03/31 23:00:00    NaN     3        23   31        NaN\n",
       "109354  001034  2015/03/31 23:00:00    NaN     3        23   31       -1.0\n",
       "109355  001036  2015/03/31 23:00:00    NaN     3        23   31       -1.0\n",
       "\n",
       "[109356 rows x 7 columns]"
      ]
     },
     "execution_count": 60,
     "metadata": {},
     "output_type": "execute_result"
    }
   ],
   "source": [
    "test_new"
   ]
  },
  {
   "cell_type": "code",
   "execution_count": 36,
   "metadata": {
    "scrolled": true
   },
   "outputs": [
    {
     "data": {
      "text/html": [
       "<div>\n",
       "<style scoped>\n",
       "    .dataframe tbody tr th:only-of-type {\n",
       "        vertical-align: middle;\n",
       "    }\n",
       "\n",
       "    .dataframe tbody tr th {\n",
       "        vertical-align: top;\n",
       "    }\n",
       "\n",
       "    .dataframe thead th {\n",
       "        text-align: right;\n",
       "    }\n",
       "</style>\n",
       "<table border=\"1\" class=\"dataframe\">\n",
       "  <thead>\n",
       "    <tr style=\"text-align: right;\">\n",
       "      <th></th>\n",
       "      <th>Station</th>\n",
       "      <th>datetime</th>\n",
       "      <th>value</th>\n",
       "      <th>id</th>\n",
       "      <th>date</th>\n",
       "      <th>datehour</th>\n",
       "      <th>day</th>\n",
       "    </tr>\n",
       "  </thead>\n",
       "  <tbody>\n",
       "    <tr>\n",
       "      <th>219650</th>\n",
       "      <td>001026</td>\n",
       "      <td>2014/05/01 01:00:00</td>\n",
       "      <td>77.0</td>\n",
       "      <td>219650</td>\n",
       "      <td>5</td>\n",
       "      <td>1</td>\n",
       "      <td>1</td>\n",
       "    </tr>\n",
       "    <tr>\n",
       "      <th>193373</th>\n",
       "      <td>001023</td>\n",
       "      <td>2014/05/01 01:00:00</td>\n",
       "      <td>95.0</td>\n",
       "      <td>193373</td>\n",
       "      <td>5</td>\n",
       "      <td>1</td>\n",
       "      <td>1</td>\n",
       "    </tr>\n",
       "    <tr>\n",
       "      <th>132060</th>\n",
       "      <td>001016</td>\n",
       "      <td>2014/05/01 01:00:00</td>\n",
       "      <td>106.0</td>\n",
       "      <td>132060</td>\n",
       "      <td>5</td>\n",
       "      <td>1</td>\n",
       "      <td>1</td>\n",
       "    </tr>\n",
       "    <tr>\n",
       "      <th>254686</th>\n",
       "      <td>001030</td>\n",
       "      <td>2014/05/01 01:00:00</td>\n",
       "      <td>NaN</td>\n",
       "      <td>254686</td>\n",
       "      <td>5</td>\n",
       "      <td>1</td>\n",
       "      <td>1</td>\n",
       "    </tr>\n",
       "    <tr>\n",
       "      <th>307240</th>\n",
       "      <td>001036</td>\n",
       "      <td>2014/05/01 01:00:00</td>\n",
       "      <td>109.0</td>\n",
       "      <td>307240</td>\n",
       "      <td>5</td>\n",
       "      <td>1</td>\n",
       "      <td>1</td>\n",
       "    </tr>\n",
       "    <tr>\n",
       "      <th>...</th>\n",
       "      <td>...</td>\n",
       "      <td>...</td>\n",
       "      <td>...</td>\n",
       "      <td>...</td>\n",
       "      <td>...</td>\n",
       "      <td>...</td>\n",
       "      <td>...</td>\n",
       "    </tr>\n",
       "    <tr>\n",
       "      <th>35035</th>\n",
       "      <td>001004</td>\n",
       "      <td>2015/04/30 23:00:00</td>\n",
       "      <td>77.0</td>\n",
       "      <td>35035</td>\n",
       "      <td>4</td>\n",
       "      <td>23</td>\n",
       "      <td>30</td>\n",
       "    </tr>\n",
       "    <tr>\n",
       "      <th>26276</th>\n",
       "      <td>001003</td>\n",
       "      <td>2015/04/30 23:00:00</td>\n",
       "      <td>93.0</td>\n",
       "      <td>26276</td>\n",
       "      <td>4</td>\n",
       "      <td>23</td>\n",
       "      <td>30</td>\n",
       "    </tr>\n",
       "    <tr>\n",
       "      <th>17517</th>\n",
       "      <td>001002</td>\n",
       "      <td>2015/04/30 23:00:00</td>\n",
       "      <td>73.0</td>\n",
       "      <td>17517</td>\n",
       "      <td>4</td>\n",
       "      <td>23</td>\n",
       "      <td>30</td>\n",
       "    </tr>\n",
       "    <tr>\n",
       "      <th>61312</th>\n",
       "      <td>001007</td>\n",
       "      <td>2015/04/30 23:00:00</td>\n",
       "      <td>131.0</td>\n",
       "      <td>61312</td>\n",
       "      <td>4</td>\n",
       "      <td>23</td>\n",
       "      <td>30</td>\n",
       "    </tr>\n",
       "    <tr>\n",
       "      <th>315323</th>\n",
       "      <td>001036</td>\n",
       "      <td>2015/04/30 23:00:00</td>\n",
       "      <td>88.0</td>\n",
       "      <td>315323</td>\n",
       "      <td>4</td>\n",
       "      <td>23</td>\n",
       "      <td>30</td>\n",
       "    </tr>\n",
       "  </tbody>\n",
       "</table>\n",
       "<p>209916 rows × 7 columns</p>\n",
       "</div>"
      ],
      "text/plain": [
       "       Station             datetime  value      id  date  datehour  day\n",
       "219650  001026  2014/05/01 01:00:00   77.0  219650     5         1    1\n",
       "193373  001023  2014/05/01 01:00:00   95.0  193373     5         1    1\n",
       "132060  001016  2014/05/01 01:00:00  106.0  132060     5         1    1\n",
       "254686  001030  2014/05/01 01:00:00    NaN  254686     5         1    1\n",
       "307240  001036  2014/05/01 01:00:00  109.0  307240     5         1    1\n",
       "...        ...                  ...    ...     ...   ...       ...  ...\n",
       "35035   001004  2015/04/30 23:00:00   77.0   35035     4        23   30\n",
       "26276   001003  2015/04/30 23:00:00   93.0   26276     4        23   30\n",
       "17517   001002  2015/04/30 23:00:00   73.0   17517     4        23   30\n",
       "61312   001007  2015/04/30 23:00:00  131.0   61312     4        23   30\n",
       "315323  001036  2015/04/30 23:00:00   88.0  315323     4        23   30\n",
       "\n",
       "[209916 rows x 7 columns]"
      ]
     },
     "execution_count": 36,
     "metadata": {},
     "output_type": "execute_result"
    }
   ],
   "source": [
    "df1[~df1.date.isin([3,6,9,12])]"
   ]
  },
  {
   "cell_type": "markdown",
   "metadata": {},
   "source": [
    "# Reset the existing index, and construct the new index values.\n",
    "dataset = dataset.reset_index()\n",
    "dataset.index = dataset.groupby('datetime').cumcount()\n",
    "\n",
    "# Pivot and remove the column axis name.\n",
    "dataset = dataset.pivot(columns='datetime', values=\"value\").rename_axis(None, axis=1)"
   ]
  },
  {
   "cell_type": "code",
   "execution_count": null,
   "metadata": {},
   "outputs": [],
   "source": [
    "df[\"id\"] = df.index"
   ]
  },
  {
   "cell_type": "code",
   "execution_count": null,
   "metadata": {},
   "outputs": [],
   "source": [
    "df"
   ]
  },
  {
   "cell_type": "markdown",
   "metadata": {},
   "source": [
    "df.index = df.groupby('datetime').cumcount()\n",
    "# Pivot and remove the column axis name.\n",
    "df = df.pivot(columns='datetime', values=0).rename_axis(None, axis=1)\n"
   ]
  },
  {
   "cell_type": "code",
   "execution_count": null,
   "metadata": {},
   "outputs": [],
   "source": [
    "df.columns = [\"Station\", \"datetime\", \"value\", \"id\"]"
   ]
  },
  {
   "cell_type": "code",
   "execution_count": null,
   "metadata": {},
   "outputs": [],
   "source": [
    "df.columns = [\"Station\", \"datetime\", \"value\", \"id\"]\n",
    "df['date'] = pd.to_datetime(df['datetime']).dt.month\n",
    "df['datehour'] = pd.to_datetime(df['datetime']).dt.hour\n",
    "df1 = df.copy().sort_values(by=\"datetime\")"
   ]
  },
  {
   "cell_type": "code",
   "execution_count": null,
   "metadata": {},
   "outputs": [],
   "source": [
    "df1 = df.copy().sort_values(by=\"datetime\")"
   ]
  },
  {
   "cell_type": "code",
   "execution_count": null,
   "metadata": {},
   "outputs": [],
   "source": [
    "df1"
   ]
  },
  {
   "cell_type": "code",
   "execution_count": null,
   "metadata": {},
   "outputs": [],
   "source": [
    "df2 = df1.groupby([\"datehour\", 'Station']).apply(lambda x: x.loc[(x.date.isin([3, 6, 9, 12]) &\n",
    "                    ~(x.value.isnull()))| (x.date.isin([2, 5, 8, 11]) & (x.value.isnull())),\n",
    "                                                                 [\"value\", \"id\"]]).reset_index().T"
   ]
  },
  {
   "cell_type": "code",
   "execution_count": null,
   "metadata": {},
   "outputs": [],
   "source": [
    "df2"
   ]
  },
  {
   "cell_type": "code",
   "execution_count": null,
   "metadata": {},
   "outputs": [],
   "source": [
    "id_list = df2.loc['id', :].to_list()"
   ]
  },
  {
   "cell_type": "code",
   "execution_count": null,
   "metadata": {},
   "outputs": [],
   "source": [
    "id_list"
   ]
  },
  {
   "cell_type": "code",
   "execution_count": null,
   "metadata": {},
   "outputs": [],
   "source": [
    "ar = df[\"value\"].to_numpy()"
   ]
  },
  {
   "cell_type": "code",
   "execution_count": null,
   "metadata": {},
   "outputs": [],
   "source": [
    "ar.shape"
   ]
  },
  {
   "cell_type": "code",
   "execution_count": null,
   "metadata": {},
   "outputs": [],
   "source": [
    "shp = (36, 36)"
   ]
  },
  {
   "cell_type": "code",
   "execution_count": null,
   "metadata": {},
   "outputs": [],
   "source": [
    "shp"
   ]
  },
  {
   "cell_type": "code",
   "execution_count": null,
   "metadata": {},
   "outputs": [],
   "source": [
    "# move back indices to one previous value\n",
    "a = [x - 1 for x in id_list]"
   ]
  },
  {
   "cell_type": "code",
   "execution_count": null,
   "metadata": {},
   "outputs": [],
   "source": [
    "a"
   ]
  },
  {
   "cell_type": "code",
   "execution_count": null,
   "metadata": {},
   "outputs": [],
   "source": [
    "ar[a]"
   ]
  },
  {
   "cell_type": "code",
   "execution_count": null,
   "metadata": {},
   "outputs": [],
   "source": [
    "ar[id_list]"
   ]
  },
  {
   "cell_type": "code",
   "execution_count": null,
   "metadata": {},
   "outputs": [],
   "source": [
    "values = ar.copy()"
   ]
  },
  {
   "cell_type": "code",
   "execution_count": null,
   "metadata": {},
   "outputs": [],
   "source": [
    "values[a] = np.nan"
   ]
  },
  {
   "cell_type": "code",
   "execution_count": null,
   "metadata": {},
   "outputs": [],
   "source": [
    "masks = ~np.isnan(values)\n",
    "eval_masks = (~np.isnan(values)) ^ (~np.isnan(ar))"
   ]
  },
  {
   "cell_type": "code",
   "execution_count": null,
   "metadata": {},
   "outputs": [],
   "source": [
    "masks"
   ]
  },
  {
   "cell_type": "code",
   "execution_count": null,
   "metadata": {},
   "outputs": [],
   "source": [
    "eval_masks"
   ]
  },
  {
   "cell_type": "code",
   "execution_count": null,
   "metadata": {},
   "outputs": [],
   "source": [
    "evals = ar.reshape(shp)\n",
    "values = values.reshape(shp)\n",
    "\n",
    "masks = masks.reshape(shp)\n",
    "eval_masks = eval_masks.reshape(shp)"
   ]
  },
  {
   "cell_type": "code",
   "execution_count": null,
   "metadata": {},
   "outputs": [],
   "source": [
    "#kk = k.set_index(\"datetime\")"
   ]
  },
  {
   "cell_type": "code",
   "execution_count": null,
   "metadata": {},
   "outputs": [],
   "source": [
    "#kk[np.isnan(kk)] = -1"
   ]
  },
  {
   "cell_type": "code",
   "execution_count": null,
   "metadata": {},
   "outputs": [],
   "source": [
    "#kk = kk.astype(int)"
   ]
  },
  {
   "cell_type": "code",
   "execution_count": null,
   "metadata": {},
   "outputs": [],
   "source": [
    "#kk.values.tolist()"
   ]
  },
  {
   "cell_type": "code",
   "execution_count": null,
   "metadata": {},
   "outputs": [],
   "source": [
    "indices = df1[\"id\"].tolist()"
   ]
  },
  {
   "cell_type": "code",
   "execution_count": null,
   "metadata": {},
   "outputs": [],
   "source": [
    "s = sample.pivot(index='datetime', columns='Station', values='value')"
   ]
  },
  {
   "cell_type": "code",
   "execution_count": null,
   "metadata": {},
   "outputs": [],
   "source": [
    "s"
   ]
  },
  {
   "cell_type": "code",
   "execution_count": null,
   "metadata": {},
   "outputs": [],
   "source": [
    "dict(zip(kk.values.tolist(), s.values.tolist()))"
   ]
  },
  {
   "cell_type": "code",
   "execution_count": null,
   "metadata": {},
   "outputs": [],
   "source": [
    "kk"
   ]
  },
  {
   "cell_type": "code",
   "execution_count": null,
   "metadata": {},
   "outputs": [],
   "source": [
    "kk.values"
   ]
  },
  {
   "cell_type": "code",
   "execution_count": null,
   "metadata": {},
   "outputs": [],
   "source": [
    "s = sample[[\"Station\", \"value\"]].copy()"
   ]
  },
  {
   "cell_type": "code",
   "execution_count": null,
   "metadata": {},
   "outputs": [],
   "source": [
    "s.stack().reset_index()"
   ]
  },
  {
   "cell_type": "code",
   "execution_count": null,
   "metadata": {},
   "outputs": [],
   "source": [
    "evals = []\n",
    "x = sample.set_index(\"Station\").to_dict()[\"value\"]\n",
    "np.array(parse_data(sample)).shape"
   ]
  },
  {
   "cell_type": "code",
   "execution_count": null,
   "metadata": {},
   "outputs": [],
   "source": []
  },
  {
   "cell_type": "code",
   "execution_count": null,
   "metadata": {},
   "outputs": [],
   "source": [
    "sample[\"Station\"].unique()"
   ]
  },
  {
   "cell_type": "code",
   "execution_count": null,
   "metadata": {},
   "outputs": [],
   "source": []
  },
  {
   "cell_type": "code",
   "execution_count": null,
   "metadata": {},
   "outputs": [],
   "source": [
    "np.array(evals[0]).shape"
   ]
  },
  {
   "cell_type": "code",
   "execution_count": null,
   "metadata": {},
   "outputs": [],
   "source": [
    "evals = []\n",
    "keys = []\n",
    "for h in range(24):\n",
    "    f = df[df['datehour'] == h]\n",
    "    evals.append(parse_data(f))"
   ]
  },
  {
   "cell_type": "code",
   "execution_count": null,
   "metadata": {},
   "outputs": [],
   "source": [
    "df[\"hour\"]"
   ]
  },
  {
   "cell_type": "code",
   "execution_count": null,
   "metadata": {},
   "outputs": [],
   "source": [
    "f = df[df['datehour'] == 1]\n",
    "x = f.set_index(\"Station\").to_dict()[\"id\"]"
   ]
  },
  {
   "cell_type": "code",
   "execution_count": null,
   "metadata": {},
   "outputs": [],
   "source": [
    "evals = []\n"
   ]
  },
  {
   "cell_type": "code",
   "execution_count": null,
   "metadata": {},
   "outputs": [],
   "source": [
    "b = df.set_index(\"Station\")[\"value\"].to_dict()"
   ]
  },
  {
   "cell_type": "code",
   "execution_count": null,
   "metadata": {},
   "outputs": [],
   "source": [
    "from itertools import chain\n",
    "keys = []\n",
    "values = []\n",
    "for attr in df[\"Station\"].unique():\n",
    "    if attr in chain(a,b):\n",
    "        keys.append(a[attr])\n",
    "        values.append(b[attr])\n",
    "        "
   ]
  },
  {
   "cell_type": "code",
   "execution_count": null,
   "metadata": {},
   "outputs": [],
   "source": [
    "#val = np.array(li)"
   ]
  },
  {
   "cell_type": "code",
   "execution_count": null,
   "metadata": {},
   "outputs": [],
   "source": [
    "len(keys)"
   ]
  },
  {
   "cell_type": "code",
   "execution_count": null,
   "metadata": {},
   "outputs": [],
   "source": [
    "values"
   ]
  },
  {
   "cell_type": "code",
   "execution_count": null,
   "metadata": {},
   "outputs": [],
   "source": [
    "df3 = df1.groupby([\"hour\", 'Station']).apply(lambda x: x.loc[(x.date.isin([6]) &\n",
    "                    ~(x.value.isnull()))| (x.date.isin([5]) & (x.value.isnull())), \"value\"])"
   ]
  },
  {
   "cell_type": "code",
   "execution_count": null,
   "metadata": {},
   "outputs": [],
   "source": [
    "df4 = df1.groupby([\"hour\", 'Station']).apply(lambda x: x.loc[(x.date.isin([9]) &\n",
    "                    ~(x.value.isnull()))| (x.date.isin([8]) & (x.value.isnull())), \"value\"])"
   ]
  },
  {
   "cell_type": "code",
   "execution_count": null,
   "metadata": {},
   "outputs": [],
   "source": [
    "df5 = df1.groupby([\"hour\", 'Station']).apply(lambda x: x.loc[(x.date.isin([12]) &\n",
    "                    ~(x.value.isnull()))| (x.date.isin([11]) & (x.value.isnull())), \"value\"])"
   ]
  },
  {
   "cell_type": "code",
   "execution_count": null,
   "metadata": {},
   "outputs": [],
   "source": [
    "df1 = df1.to_frame().reset_index()"
   ]
  },
  {
   "cell_type": "code",
   "execution_count": null,
   "metadata": {},
   "outputs": [],
   "source": [
    "df1"
   ]
  },
  {
   "cell_type": "code",
   "execution_count": null,
   "metadata": {},
   "outputs": [],
   "source": [
    "df['datetime'] == df1['datetime']"
   ]
  },
  {
   "cell_type": "code",
   "execution_count": null,
   "metadata": {},
   "outputs": [],
   "source": [
    "idx = df.index[df['datetime'] == df1['datetime']]"
   ]
  },
  {
   "cell_type": "code",
   "execution_count": null,
   "metadata": {},
   "outputs": [],
   "source": [
    "len(df1)*100/len(df)"
   ]
  },
  {
   "cell_type": "code",
   "execution_count": null,
   "metadata": {},
   "outputs": [],
   "source": [
    "df.groupby([\"hour\"]).apply(lambda x: x.loc[(x.date.isin([3, 6, 9, 12]) & ~(x.value.isnull())) | (x.date.isin([2,5, 8, 11]) & (x.value.isnull())), \"value\"].index)"
   ]
  },
  {
   "cell_type": "code",
   "execution_count": null,
   "metadata": {},
   "outputs": [],
   "source": [
    "ind = df.loc[((df.date.isin([3])) & ~(df.value.isnull())) |\n",
    "       ((df.date.isin([2])) & (df.value.isnull())), \"value\"]"
   ]
  },
  {
   "cell_type": "code",
   "execution_count": null,
   "metadata": {},
   "outputs": [],
   "source": [
    "df.groupby([\"date\", \"datehour\"])[\"value\"]"
   ]
  },
  {
   "cell_type": "code",
   "execution_count": null,
   "metadata": {},
   "outputs": [],
   "source": [
    "df.loc[((df.date.isin([3])) & ~(df.value.isnull())) |\n",
    "       ((df.date.isin([2])) & (df.value.isnull())), \"value\"]"
   ]
  },
  {
   "cell_type": "code",
   "execution_count": null,
   "metadata": {},
   "outputs": [],
   "source": [
    "df.loc[((df.date.isin([3, 6, 9, 12])) & ~(df.value.isnull())) |\n",
    "       ((df.date.isin([1, 2, 4, 5, 7, 8, 10, 11])) & (df.value.isnull())), \"value\"].index"
   ]
  },
  {
   "cell_type": "code",
   "execution_count": null,
   "metadata": {},
   "outputs": [],
   "source": [
    "i = np.where(~np.isnan(df.values))[0].tolist()"
   ]
  },
  {
   "cell_type": "code",
   "execution_count": null,
   "metadata": {},
   "outputs": [],
   "source": [
    "r = len(dataset)"
   ]
  },
  {
   "cell_type": "code",
   "execution_count": null,
   "metadata": {},
   "outputs": [],
   "source": [
    "not_null = dataset[~dataset.isnull()].index.tolist()"
   ]
  },
  {
   "cell_type": "code",
   "execution_count": null,
   "metadata": {},
   "outputs": [],
   "source": [
    "null = dataset[dataset.isnull()].index.tolist()"
   ]
  },
  {
   "cell_type": "code",
   "execution_count": null,
   "metadata": {},
   "outputs": [],
   "source": [
    "null"
   ]
  },
  {
   "cell_type": "code",
   "execution_count": null,
   "metadata": {},
   "outputs": [],
   "source": [
    "dd = np.roll(d[i], -1)"
   ]
  },
  {
   "cell_type": "code",
   "execution_count": null,
   "metadata": {},
   "outputs": [],
   "source": [
    "i"
   ]
  },
  {
   "cell_type": "code",
   "execution_count": null,
   "metadata": {},
   "outputs": [],
   "source": [
    "index_not_missing = np.where(~np.isnan(d), np.roll(d,-1))"
   ]
  },
  {
   "cell_type": "code",
   "execution_count": null,
   "metadata": {},
   "outputs": [],
   "source": [
    "d = pd.DataFrame(d[index_not_missing]).shift(-1)"
   ]
  },
  {
   "cell_type": "code",
   "execution_count": null,
   "metadata": {},
   "outputs": [],
   "source": [
    "d.index"
   ]
  },
  {
   "cell_type": "code",
   "execution_count": null,
   "metadata": {},
   "outputs": [],
   "source": [
    "for xt in range (0,len(dataset)):\n",
    "if mdf1.datetime[xt] == \"\"mdf1.B[xt]:\n",
    "    mdf1.loc[xt:,'A'] = mdf1[xt:]['A'].shift(1)"
   ]
  },
  {
   "cell_type": "code",
   "execution_count": null,
   "metadata": {},
   "outputs": [],
   "source": [
    "dataset[(dataset.isnull()) & (dataset[\"date\"] == 1)].index"
   ]
  },
  {
   "cell_type": "code",
   "execution_count": null,
   "metadata": {},
   "outputs": [],
   "source": [
    "dataset[(dataset[dataset.date.isin([3])].notnull()) &\n",
    "        (dataset[dataset.date.isin([2])].isnull())].index"
   ]
  },
  {
   "cell_type": "code",
   "execution_count": null,
   "metadata": {},
   "outputs": [],
   "source": [
    "dataset.index.hour"
   ]
  },
  {
   "cell_type": "code",
   "execution_count": null,
   "metadata": {},
   "outputs": [],
   "source": [
    "df = dataset.iloc[:,1:]"
   ]
  },
  {
   "cell_type": "code",
   "execution_count": null,
   "metadata": {},
   "outputs": [],
   "source": [
    "df[df.date.month.isin([11,12,1,2,3])]"
   ]
  },
  {
   "cell_type": "code",
   "execution_count": null,
   "metadata": {},
   "outputs": [],
   "source": [
    "df.isna().groupby(\"date\").count()"
   ]
  },
  {
   "cell_type": "code",
   "execution_count": null,
   "metadata": {},
   "outputs": [],
   "source": []
  }
 ],
 "metadata": {
  "kernelspec": {
   "display_name": "Python 3",
   "language": "python",
   "name": "python3"
  },
  "language_info": {
   "codemirror_mode": {
    "name": "ipython",
    "version": 3
   },
   "file_extension": ".py",
   "mimetype": "text/x-python",
   "name": "python",
   "nbconvert_exporter": "python",
   "pygments_lexer": "ipython3",
   "version": "3.7.4"
  }
 },
 "nbformat": 4,
 "nbformat_minor": 2
}
